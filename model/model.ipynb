{
  "cells": [
    {
      "cell_type": "code",
      "execution_count": 15,
      "metadata": {
        "id": "xBKgyVKmPvtQ"
      },
      "outputs": [],
      "source": [
        "# Import libraries\n",
        "%matplotlib inline\n",
        "from copy import deepcopy\n",
        "import numpy as np\n",
        "import pandas as pd\n",
        "from matplotlib import pyplot as plt\n",
        "from sklearn.cluster import KMeans"
      ]
    },
    {
      "cell_type": "code",
      "execution_count": 16,
      "metadata": {
        "id": "mp0vdzPzPsU0"
      },
      "outputs": [],
      "source": [
        "# Load dataset\n",
        "url = \"healthy_lifestyle_city_2021 - healthy_lifestyle_city_2021.csv\"\n",
        "data = pd.read_csv(url)"
      ]
    },
    {
      "cell_type": "code",
      "execution_count": 17,
      "metadata": {
        "colab": {
          "base_uri": "https://localhost:8080/",
          "height": 833
        },
        "id": "Oel5E0OYYTFS",
        "outputId": "561d75db-1bbf-4c48-96d2-995461582cb6"
      },
      "outputs": [
        {
          "data": {
            "text/html": [
              "<div>\n",
              "<style scoped>\n",
              "    .dataframe tbody tr th:only-of-type {\n",
              "        vertical-align: middle;\n",
              "    }\n",
              "\n",
              "    .dataframe tbody tr th {\n",
              "        vertical-align: top;\n",
              "    }\n",
              "\n",
              "    .dataframe thead th {\n",
              "        text-align: right;\n",
              "    }\n",
              "</style>\n",
              "<table border=\"1\" class=\"dataframe\">\n",
              "  <thead>\n",
              "    <tr style=\"text-align: right;\">\n",
              "      <th></th>\n",
              "      <th>Sunshine hours(City)</th>\n",
              "      <th>Annual avg. hours worked</th>\n",
              "    </tr>\n",
              "  </thead>\n",
              "  <tbody>\n",
              "    <tr>\n",
              "      <th>0</th>\n",
              "      <td>1858</td>\n",
              "      <td>1434</td>\n",
              "    </tr>\n",
              "    <tr>\n",
              "      <th>1</th>\n",
              "      <td>2636</td>\n",
              "      <td>1712</td>\n",
              "    </tr>\n",
              "    <tr>\n",
              "      <th>2</th>\n",
              "      <td>1884</td>\n",
              "      <td>1501</td>\n",
              "    </tr>\n",
              "    <tr>\n",
              "      <th>3</th>\n",
              "      <td>1821</td>\n",
              "      <td>1452</td>\n",
              "    </tr>\n",
              "    <tr>\n",
              "      <th>4</th>\n",
              "      <td>1630</td>\n",
              "      <td>1380</td>\n",
              "    </tr>\n",
              "    <tr>\n",
              "      <th>5</th>\n",
              "      <td>1662</td>\n",
              "      <td>1540</td>\n",
              "    </tr>\n",
              "    <tr>\n",
              "      <th>6</th>\n",
              "      <td>2769</td>\n",
              "      <td>1644</td>\n",
              "    </tr>\n",
              "    <tr>\n",
              "      <th>7</th>\n",
              "      <td>1626</td>\n",
              "      <td>1386</td>\n",
              "    </tr>\n",
              "    <tr>\n",
              "      <th>8</th>\n",
              "      <td>2591</td>\n",
              "      <td>1686</td>\n",
              "    </tr>\n",
              "    <tr>\n",
              "      <th>9</th>\n",
              "      <td>1938</td>\n",
              "      <td>1670</td>\n",
              "    </tr>\n",
              "    <tr>\n",
              "      <th>10</th>\n",
              "      <td>2363</td>\n",
              "      <td>1712</td>\n",
              "    </tr>\n",
              "    <tr>\n",
              "      <th>11</th>\n",
              "      <td>2671</td>\n",
              "      <td>0</td>\n",
              "    </tr>\n",
              "    <tr>\n",
              "      <th>12</th>\n",
              "      <td>2624</td>\n",
              "      <td>0</td>\n",
              "    </tr>\n",
              "    <tr>\n",
              "      <th>13</th>\n",
              "      <td>2525</td>\n",
              "      <td>0</td>\n",
              "    </tr>\n",
              "    <tr>\n",
              "      <th>14</th>\n",
              "      <td>2066</td>\n",
              "      <td>1670</td>\n",
              "    </tr>\n",
              "    <tr>\n",
              "      <th>15</th>\n",
              "      <td>2769</td>\n",
              "      <td>1686</td>\n",
              "    </tr>\n",
              "    <tr>\n",
              "      <th>16</th>\n",
              "      <td>2983</td>\n",
              "      <td>0</td>\n",
              "    </tr>\n",
              "    <tr>\n",
              "      <th>17</th>\n",
              "      <td>2066</td>\n",
              "      <td>1967</td>\n",
              "    </tr>\n",
              "    <tr>\n",
              "      <th>18</th>\n",
              "      <td>1662</td>\n",
              "      <td>1386</td>\n",
              "    </tr>\n",
              "    <tr>\n",
              "      <th>19</th>\n",
              "      <td>0</td>\n",
              "      <td>1557</td>\n",
              "    </tr>\n",
              "    <tr>\n",
              "      <th>20</th>\n",
              "      <td>3311</td>\n",
              "      <td>1898</td>\n",
              "    </tr>\n",
              "    <tr>\n",
              "      <th>21</th>\n",
              "      <td>2218</td>\n",
              "      <td>1832</td>\n",
              "    </tr>\n",
              "    <tr>\n",
              "      <th>22</th>\n",
              "      <td>3542</td>\n",
              "      <td>0</td>\n",
              "    </tr>\n",
              "    <tr>\n",
              "      <th>23</th>\n",
              "      <td>1405</td>\n",
              "      <td>0</td>\n",
              "    </tr>\n",
              "    <tr>\n",
              "      <th>24</th>\n",
              "      <td>3254</td>\n",
              "      <td>1779</td>\n",
              "    </tr>\n",
              "  </tbody>\n",
              "</table>\n",
              "</div>"
            ],
            "text/plain": [
              "    Sunshine hours(City)  Annual avg. hours worked\n",
              "0                   1858                      1434\n",
              "1                   2636                      1712\n",
              "2                   1884                      1501\n",
              "3                   1821                      1452\n",
              "4                   1630                      1380\n",
              "5                   1662                      1540\n",
              "6                   2769                      1644\n",
              "7                   1626                      1386\n",
              "8                   2591                      1686\n",
              "9                   1938                      1670\n",
              "10                  2363                      1712\n",
              "11                  2671                         0\n",
              "12                  2624                         0\n",
              "13                  2525                         0\n",
              "14                  2066                      1670\n",
              "15                  2769                      1686\n",
              "16                  2983                         0\n",
              "17                  2066                      1967\n",
              "18                  1662                      1386\n",
              "19                     0                      1557\n",
              "20                  3311                      1898\n",
              "21                  2218                      1832\n",
              "22                  3542                         0\n",
              "23                  1405                         0\n",
              "24                  3254                      1779"
            ]
          },
          "execution_count": 17,
          "metadata": {},
          "output_type": "execute_result"
        }
      ],
      "source": [
        "data = data[['Sunshine hours(City)','Annual avg. hours worked']]\n",
        "data.head(25)"
      ]
    },
    {
      "cell_type": "code",
      "execution_count": 18,
      "metadata": {
        "colab": {
          "base_uri": "https://localhost:8080/",
          "height": 279
        },
        "id": "1_eARYDlRco3",
        "outputId": "81021f52-203e-49c2-95a5-e5064c4c2405"
      },
      "outputs": [
        {
          "data": {
            "image/png": "[encoded data removed]",
            "text/plain": [
              "<Figure size 640x480 with 1 Axes>"
            ]
          },
          "metadata": {},
          "output_type": "display_data"
        }
      ],
      "source": [
        "\n",
        "f1 = data['Sunshine hours(City)'].values\n",
        "f2 = data['Annual avg. hours worked'].values\n",
        "\n",
        "X = np.array(list(zip(f1, f2)))\n",
        "\n",
        "# Visualisasi data point\n",
        "plt.scatter(f1, f2)\n",
        "plt.xlabel('Sunshine hours(City)')\n",
        "plt.ylabel('Annual avg. hours worked')\n",
        "plt.show()"
      ]
    },
    {
      "cell_type": "code",
      "execution_count": 19,
      "metadata": {
        "id": "wS5XS92LMs_P"
      },
      "outputs": [],
      "source": [
        "from sklearn.preprocessing import LabelEncoder\n",
        "\n",
        "# Inisialisasi Method\n",
        "encoder = LabelEncoder()\n",
        "\n",
        "# Looping\n",
        "for c in data.columns[0:]:  \n",
        "    if(data[c].dtype=='object'): # if column type = object (like \"Tiket\" and \"Sex\")\n",
        "        data[c] = encoder.fit_transform(data[c])\n",
        "    else: # else get the self column value without encode\n",
        "        data[c] = data[c]\n",
        "\n"
      ]
    },
    {
      "cell_type": "code",
      "execution_count": 20,
      "metadata": {
        "id": "gfEciD6KTTMz"
      },
      "outputs": [],
      "source": [
        "# Menentukan nilai yang tepat untuk cluster\n",
        "X = np.array(list(zip(f1, f2))).reshape(len(f1), 2)\n",
        "# print(X)\n",
        "SSE = []\n",
        "K = range(1,10)\n",
        "for k in K:\n",
        "  kmeanModel = KMeans(n_clusters=k).fit(X)\n",
        "  kmeanModel.fit(X)\n",
        "  SSE.append(kmeanModel.inertia_)"
      ]
    },
    {
      "cell_type": "code",
      "execution_count": 21,
      "metadata": {
        "colab": {
          "base_uri": "https://localhost:8080/",
          "height": 295
        },
        "id": "ThZiUK48TkVE",
        "outputId": "911f2f6f-9073-4cf1-bc61-d3677123339b"
      },
      "outputs": [
        {
          "data": {
            "image/png": "[encoded data removed]",
            "text/plain": [
              "<Figure size 640x480 with 1 Axes>"
            ]
          },
          "metadata": {},
          "output_type": "display_data"
        }
      ],
      "source": [
        "# Plot nilai K untuk mencari elbow\n",
        "plt.plot(K, SSE, 'bx-')\n",
        "plt.xlabel('k')\n",
        "plt.ylabel('SSE')\n",
        "plt.title('The Elbow Method showing the optional k')\n",
        "plt.show()"
      ]
    },
    {
      "cell_type": "code",
      "execution_count": 22,
      "metadata": {
        "colab": {
          "base_uri": "https://localhost:8080/"
        },
        "id": "WZs-FOcuSUDo",
        "outputId": "b3a62ceb-c97a-45dc-ce33-eabe9b09d4fa"
      },
      "outputs": [
        {
          "name": "stdout",
          "output_type": "stream",
          "text": [
            "[[1671.89473684 1590.78947368]\n",
            " [2461.18181818    0.        ]\n",
            " [2695.21428571 1784.35714286]]\n"
          ]
        }
      ],
      "source": [
        "# Melakukan clustering\n",
        "from sklearn.cluster import KMeans\n",
        "\n",
        "# Menentukan jumlah cluster\n",
        "kmeans = KMeans(n_clusters=3, init='k-means++',\n",
        "    max_iter=300,\n",
        "    n_init=10,\n",
        "    random_state=50)\n",
        "\n",
        "# Fitting input data\n",
        "kmeans = kmeans.fit(X)\n",
        "\n",
        "# Mendapatkan cluster labels\n",
        "labels = kmeans.predict(X)\n",
        "\n",
        "# Mendapatkan nilai centroid\n",
        "C = kmeans.cluster_centers_\n",
        "y_kmeans = kmeans.fit_predict(X)\n",
        "# Mencetak nilai centroid\n",
        "print(C)"
      ]
    },
    {
      "cell_type": "code",
      "execution_count": 23,
      "metadata": {
        "colab": {
          "base_uri": "https://localhost:8080/",
          "height": 295
        },
        "id": "jSIRSoUug22B",
        "outputId": "8e1ac889-91cd-4e58-f587-de6a543918e2"
      },
      "outputs": [
        {
          "data": {
            "image/png": "[encoded data removed]",
            "text/plain": [
              "<Figure size 640x480 with 1 Axes>"
            ]
          },
          "metadata": {},
          "output_type": "display_data"
        }
      ],
      "source": [
        "plt.scatter(data[y_kmeans == 0]['Sunshine hours(City)'], data[y_kmeans == 0]['Annual avg. hours worked'], s=50, c='red', label='Cluster 1')\n",
        "plt.scatter(data[y_kmeans == 1]['Sunshine hours(City)'], data[y_kmeans == 1]['Annual avg. hours worked'], s=50, c='yellow', label='Cluster 2')\n",
        "plt.scatter(data[y_kmeans == 2]['Sunshine hours(City)'], data[y_kmeans == 2]['Annual avg. hours worked'], s=50, c='green', label='Cluster 3')\n",
        "plt.scatter(kmeans.cluster_centers_[:, 0], kmeans.cluster_centers_[:, 1], s=200, c='black', label='Centroids')\n",
        "plt.title('Clusters of customers')\n",
        "plt.xlabel('Sunshine hours(City)')\n",
        "plt.ylabel('Annual avg. hours worked')\n",
        "plt.legend()\n",
        "plt.show()"
      ]
    },
    {
      "cell_type": "code",
      "execution_count": 24,
      "metadata": {
        "id": "ohwvMtFQiY1O"
      },
      "outputs": [],
      "source": [
        "data['Cluster'] = y_kmeans"
      ]
    },
    {
      "cell_type": "code",
      "execution_count": 25,
      "metadata": {
        "colab": {
          "base_uri": "https://localhost:8080/",
          "height": 363
        },
        "id": "8ybSCpy5ibLq",
        "outputId": "b44295a5-cab3-42b3-dc58-41f12ff3047b"
      },
      "outputs": [
        {
          "data": {
            "text/html": [
              "<div>\n",
              "<style scoped>\n",
              "    .dataframe tbody tr th:only-of-type {\n",
              "        vertical-align: middle;\n",
              "    }\n",
              "\n",
              "    .dataframe tbody tr th {\n",
              "        vertical-align: top;\n",
              "    }\n",
              "\n",
              "    .dataframe thead th {\n",
              "        text-align: right;\n",
              "    }\n",
              "</style>\n",
              "<table border=\"1\" class=\"dataframe\">\n",
              "  <thead>\n",
              "    <tr style=\"text-align: right;\">\n",
              "      <th></th>\n",
              "      <th>Sunshine hours(City)</th>\n",
              "      <th>Annual avg. hours worked</th>\n",
              "      <th>Cluster</th>\n",
              "    </tr>\n",
              "  </thead>\n",
              "  <tbody>\n",
              "    <tr>\n",
              "      <th>0</th>\n",
              "      <td>1858</td>\n",
              "      <td>1434</td>\n",
              "      <td>0</td>\n",
              "    </tr>\n",
              "    <tr>\n",
              "      <th>1</th>\n",
              "      <td>2636</td>\n",
              "      <td>1712</td>\n",
              "      <td>2</td>\n",
              "    </tr>\n",
              "    <tr>\n",
              "      <th>2</th>\n",
              "      <td>1884</td>\n",
              "      <td>1501</td>\n",
              "      <td>0</td>\n",
              "    </tr>\n",
              "    <tr>\n",
              "      <th>3</th>\n",
              "      <td>1821</td>\n",
              "      <td>1452</td>\n",
              "      <td>0</td>\n",
              "    </tr>\n",
              "    <tr>\n",
              "      <th>4</th>\n",
              "      <td>1630</td>\n",
              "      <td>1380</td>\n",
              "      <td>0</td>\n",
              "    </tr>\n",
              "    <tr>\n",
              "      <th>5</th>\n",
              "      <td>1662</td>\n",
              "      <td>1540</td>\n",
              "      <td>0</td>\n",
              "    </tr>\n",
              "    <tr>\n",
              "      <th>6</th>\n",
              "      <td>2769</td>\n",
              "      <td>1644</td>\n",
              "      <td>2</td>\n",
              "    </tr>\n",
              "    <tr>\n",
              "      <th>7</th>\n",
              "      <td>1626</td>\n",
              "      <td>1386</td>\n",
              "      <td>0</td>\n",
              "    </tr>\n",
              "    <tr>\n",
              "      <th>8</th>\n",
              "      <td>2591</td>\n",
              "      <td>1686</td>\n",
              "      <td>2</td>\n",
              "    </tr>\n",
              "    <tr>\n",
              "      <th>9</th>\n",
              "      <td>1938</td>\n",
              "      <td>1670</td>\n",
              "      <td>0</td>\n",
              "    </tr>\n",
              "  </tbody>\n",
              "</table>\n",
              "</div>"
            ],
            "text/plain": [
              "   Sunshine hours(City)  Annual avg. hours worked  Cluster\n",
              "0                  1858                      1434        0\n",
              "1                  2636                      1712        2\n",
              "2                  1884                      1501        0\n",
              "3                  1821                      1452        0\n",
              "4                  1630                      1380        0\n",
              "5                  1662                      1540        0\n",
              "6                  2769                      1644        2\n",
              "7                  1626                      1386        0\n",
              "8                  2591                      1686        2\n",
              "9                  1938                      1670        0"
            ]
          },
          "execution_count": 25,
          "metadata": {},
          "output_type": "execute_result"
        }
      ],
      "source": [
        "data.head(10)"
      ]
    },
    {
      "cell_type": "code",
      "execution_count": 26,
      "metadata": {},
      "outputs": [
        {
          "data": {
            "text/plain": [
              "dtype('int32')"
            ]
          },
          "execution_count": 26,
          "metadata": {},
          "output_type": "execute_result"
        }
      ],
      "source": [
        "# Data type of the Cluster column\n",
        "data['Cluster'].dtype"
      ]
    },
    {
      "cell_type": "code",
      "execution_count": 27,
      "metadata": {},
      "outputs": [
        {
          "data": {
            "text/plain": [
              "array([0, 2, 1])"
            ]
          },
          "execution_count": 27,
          "metadata": {},
          "output_type": "execute_result"
        }
      ],
      "source": [
        "data['Cluster'].unique()"
      ]
    },
    {
      "cell_type": "code",
      "execution_count": 28,
      "metadata": {
        "id": "usuvBvO_iiC3"
      },
      "outputs": [],
      "source": [
        "import pickle\n",
        "pickle.dump(kmeans, open('model.pkl', 'wb'))"
      ]
    }
  ],
  "metadata": {
    "colab": {
      "provenance": []
    },
    "kernelspec": {
      "display_name": "Python 3.10.4 64-bit",
      "language": "python",
      "name": "python3"
    },
    "language_info": {
      "codemirror_mode": {
        "name": "ipython",
        "version": 3
      },
      "file_extension": ".py",
      "mimetype": "text/x-python",
      "name": "python",
      "nbconvert_exporter": "python",
      "pygments_lexer": "ipython3",
      "version": "3.10.4"
    },
    "vscode": {
      "interpreter": {
        "hash": "23223c0a22ec27317cd8684511e6aeb1713d4371608277493939d750b45c007a"
      }
    }
  },
  "nbformat": 4,
  "nbformat_minor": 0
}
